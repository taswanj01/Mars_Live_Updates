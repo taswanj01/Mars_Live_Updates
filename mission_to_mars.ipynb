{
 "cells": [
  {
   "cell_type": "code",
   "execution_count": 1,
   "metadata": {},
   "outputs": [],
   "source": [
    "#Import dependencies\n",
    "import pandas as pd\n",
    "from splinter import Browser\n",
    "import time"
   ]
  },
  {
   "cell_type": "markdown",
   "metadata": {},
   "source": [
    "## Mission to Mars\n",
    "\n",
    "Build of a web application that scrapes various websites for data related to the Mission to Mars and displays the information in a single HTML page."
   ]
  },
  {
   "cell_type": "markdown",
   "metadata": {},
   "source": [
    "### Nasa Mars latest news scrape\n",
    "\n",
    ">- Collect the latest news articles title and paragraph texts"
   ]
  },
  {
   "cell_type": "code",
   "execution_count": 17,
   "metadata": {},
   "outputs": [],
   "source": [
    "# Setup splinter path and 'browser' variable\n",
    "executable_path = {'executable_path': 'app_files/chromedriver.exe'}\n",
    "browser = Browser('chrome', **executable_path, headless=False)\n",
    "time.sleep(5)"
   ]
  },
  {
   "cell_type": "code",
   "execution_count": 3,
   "metadata": {},
   "outputs": [],
   "source": [
    "# URL of page to be scraped\n",
    "mars_news_url = 'https://mars.nasa.gov/news/?page=0&per_page=40&order=publish_date+desc%2Ccreated_at+desc&search=&category=19%2C165%2C184%2C204&blank_scope=Latest'\n",
    "\n",
    "# Send Splinter to Mars news page\n",
    "browser.visit(mars_news_url)\n",
    "time.sleep(5)"
   ]
  },
  {
   "cell_type": "code",
   "execution_count": 4,
   "metadata": {},
   "outputs": [
    {
     "data": {
      "text/plain": [
       "\"NASA's MRO Completes 60,000 Trips Around Mars\""
      ]
     },
     "execution_count": 4,
     "metadata": {},
     "output_type": "execute_result"
    }
   ],
   "source": [
    "# Navigate Splinter to the news articles section, find and store the first articles title\n",
    "mars_latest_news_title_first_li = browser.find_by_css('body .item_list .slide').first\n",
    "mars_latest_news_title = mars_latest_news_title_first_li.find_by_css('.content_title a').value\n",
    "mars_latest_news_title"
   ]
  },
  {
   "cell_type": "code",
   "execution_count": 5,
   "metadata": {},
   "outputs": [
    {
     "data": {
      "text/plain": [
       "'The orbiting spacecraft is also about to set a record for data relayed from the Martian surface.'"
      ]
     },
     "execution_count": 5,
     "metadata": {},
     "output_type": "execute_result"
    }
   ],
   "source": [
    "# Find and store the first articles text\n",
    "mars_latest_news_ptext = mars_latest_news_title_first_li.find_by_css('.article_teaser_body').value\n",
    "mars_latest_news_ptext"
   ]
  },
  {
   "cell_type": "markdown",
   "metadata": {},
   "source": [
    "### Current Featured Mars Image\n",
    ">- Collect the current featured Mars image"
   ]
  },
  {
   "cell_type": "code",
   "execution_count": 6,
   "metadata": {},
   "outputs": [],
   "source": [
    "# Setup url to grab the image from and initiate Splinter\n",
    "mars_image_url = 'https://www.jpl.nasa.gov/spaceimages/?search=&category=Mars#submit'\n",
    "browser.visit(mars_image_url)\n",
    "\n",
    "# Give page time to load\n",
    "time.sleep(10)"
   ]
  },
  {
   "cell_type": "code",
   "execution_count": 7,
   "metadata": {},
   "outputs": [],
   "source": [
    "#Navigate first click to get to full res image\n",
    "browser.find_by_id('full_image').first.click()\n",
    "time.sleep(5)"
   ]
  },
  {
   "cell_type": "code",
   "execution_count": 8,
   "metadata": {},
   "outputs": [],
   "source": [
    "# Next click to get further to full res image\n",
    "browser.click_link_by_text('more info     ')\n",
    "time.sleep(5)"
   ]
  },
  {
   "cell_type": "code",
   "execution_count": 9,
   "metadata": {},
   "outputs": [],
   "source": [
    "# Save the URL of the image\n",
    "featured_image_url = browser.find_by_css('figure.lede a')['href']"
   ]
  },
  {
   "cell_type": "code",
   "execution_count": 10,
   "metadata": {},
   "outputs": [
    {
     "data": {
      "text/plain": [
       "'https://www.jpl.nasa.gov/spaceimages/images/largesize/PIA09113_hires.jpg'"
      ]
     },
     "execution_count": 10,
     "metadata": {},
     "output_type": "execute_result"
    }
   ],
   "source": [
    "featured_image_url"
   ]
  },
  {
   "cell_type": "markdown",
   "metadata": {},
   "source": [
    "### Mars weather\n",
    ">- Collect the latest mars weather from the Mars weather twitter account"
   ]
  },
  {
   "cell_type": "code",
   "execution_count": 11,
   "metadata": {},
   "outputs": [],
   "source": [
    "# Setup url to grab the weather from and redirect Splinter\n",
    "mars_weather_twitter_url = 'https://twitter.com/MarsWxReport/media?lang=en'\n",
    "browser.visit(mars_weather_twitter_url)\n",
    "\n",
    "# Give page time to load\n",
    "time.sleep(5)"
   ]
  },
  {
   "cell_type": "code",
   "execution_count": 12,
   "metadata": {},
   "outputs": [
    {
     "data": {
      "text/plain": [
       "'InSight sol 165 (2019-05-15) low -100.3ºC (-148.6ºF) high -18.2ºC (-0.7ºF)\\nwinds from the SW at 4.6 m/s (10.4 mph) gusting to 13.7 m/s (30.6 mph)\\npressure at 7.50 hPa'"
      ]
     },
     "execution_count": 12,
     "metadata": {},
     "output_type": "execute_result"
    }
   ],
   "source": [
    "# Log the latest weather tweet\n",
    "mars_weather = browser.find_by_css('.TweetTextSize.TweetTextSize--normal.js-tweet-text.tweet-text').first.text\n",
    "mars_weather"
   ]
  },
  {
   "cell_type": "markdown",
   "metadata": {},
   "source": [
    "### Mars Facts\n",
    ">- General facts about the planet including Diameter, Mass, etc. in table form"
   ]
  },
  {
   "cell_type": "code",
   "execution_count": 28,
   "metadata": {},
   "outputs": [],
   "source": [
    "# Mars facts url read by pandas into a table\n",
    "mars_facts_url = 'https://space-facts.com/mars/'\n",
    "mars_raw_html = pd.read_html(mars_facts_url)\n",
    "mars_html = mars_raw_html[0]\n",
    "mars_html.rename(columns={0:\"description\", 1:\"value\"}, inplace=True)\n",
    "mars_html.set_index(\"description\", inplace=True)\n",
    "mars_html_cleaned = mars_html.to_html()"
   ]
  },
  {
   "cell_type": "markdown",
   "metadata": {},
   "source": [
    "### Mars Hemispheres\n",
    ">- High resolution image for each of Mar's hemispheres gathered from the USGS Astrogeology site."
   ]
  },
  {
   "cell_type": "code",
   "execution_count": 14,
   "metadata": {},
   "outputs": [],
   "source": [
    "# Url for hemisphere images, visit main page for hemishperes\n",
    "hemispheres_url = 'https://astrogeology.usgs.gov/search/results?q=hemisphere+enhanced&k1=target&v1=Mars'\n",
    "browser.visit(hemispheres_url)\n",
    "\n",
    "# Give page time to load\n",
    "time.sleep(5)"
   ]
  },
  {
   "cell_type": "code",
   "execution_count": 15,
   "metadata": {},
   "outputs": [],
   "source": [
    "# List to hold dictionaries of each images title and full size pic URL\n",
    "hemisphere_image_urls = []\n",
    "\n",
    "# Four hemispheres so we can hard code our range\n",
    "# Iterate through the four pages and collect title and URL, sleeps are to allow browser time parse page\n",
    "for link in range(4):\n",
    "    hemis_links = browser.find_by_css('.results .item')\n",
    "    hemis_links[link].find_by_css('a img').click()\n",
    "    time.sleep(3)\n",
    "    hemi_title = browser.find_by_css('section.block.metadata h2').value\n",
    "    hemisphere_image_urls.append({'title':hemi_title.strip('Enhanced'), 'img_url': browser.find_by_css('.downloads ul li a')['href']})\n",
    "    browser.back()\n",
    "    time.sleep(3)"
   ]
  },
  {
   "cell_type": "code",
   "execution_count": 18,
   "metadata": {},
   "outputs": [],
   "source": [
    "browser.quit()"
   ]
  }
 ],
 "metadata": {
  "kernelspec": {
   "display_name": "Python 3",
   "language": "python",
   "name": "python3"
  },
  "language_info": {
   "codemirror_mode": {
    "name": "ipython",
    "version": 3
   },
   "file_extension": ".py",
   "mimetype": "text/x-python",
   "name": "python",
   "nbconvert_exporter": "python",
   "pygments_lexer": "ipython3",
   "version": "3.7.1"
  }
 },
 "nbformat": 4,
 "nbformat_minor": 2
}
